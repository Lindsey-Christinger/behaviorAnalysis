{
 "cells": [
  {
   "cell_type": "code",
   "execution_count": 1,
   "id": "b829e103",
   "metadata": {
    "scrolled": true
   },
   "outputs": [],
   "source": [
    "import pandas as pd\n",
    "import matplotlib.pyplot as plt\n",
    "import numpy as np\n",
    "import seaborn as sns\n",
    "from matplotlib.patches import Ellipse\n",
    "import matplotlib.patches as patches\n",
    "import librosa\n",
    "import math\n",
    "from math import pi\n",
    "\n",
    "%run graphing_functions.ipynb"
   ]
  },
  {
   "cell_type": "code",
   "execution_count": 2,
   "id": "22ddcd07",
   "metadata": {},
   "outputs": [],
   "source": [
    "#Use this for all adjustable values \n",
    "#input file paths here (include .csv):\n",
    "#the audio_path should contain the stimulus time.\n",
    "#in server file, this is labeled at M1\n",
    "\n",
    "video_path = r'\\\\10.25.16.5\\yaochen\\Active\\DLC\\Final_Models\\Hanna\\escape_behavior_HannaJachna_2024-07-8\\control_pki\\coords_csv\\CoordM2_4284_female_pki_P2DLC_resnet50_escape_behavior_2Jun13shuffle1_1030000_filtered_day.csv'\n",
    "time_path = r'\\\\10.25.16.5\\yaochen\\Active\\Hanna\\Escape_behavior\\PKI_Control_LargePlatform_mostRecent\\videoTimestamp\\M2_videoTimestamp_4284_female_pki_P20.csv'\n",
    "audio_path = r'\\\\10.25.16.5\\yaochen\\Active\\Hanna\\Escape_behavior\\PKI_Control_LargePlatform_mostRecent\\stimulusTimestamp\\M2_stimulusTimestamp_4284_female_pki_P20.csv'\n",
    "\n",
    "north_pixel = 64\n",
    "south_pixel = 408\n",
    "east_pixel = 402\n",
    "west_pixel = 41\n",
    "shelter_x_pixel = 373\n",
    "shelter_y_pixel = 219\n",
    "\n",
    "#estimate for when mouse reaches shelter\n",
    "escape_estimate = 10 #time mouse reaches shelter location\n",
    "\n",
    "#set sigma for gaussian filter - look into how to decide \n",
    "sigma = 2\n",
    "\n",
    "#stimulus of choice:\n",
    "stimulus = 1"
   ]
  },
  {
   "cell_type": "code",
   "execution_count": 3,
   "id": "13ced2f0",
   "metadata": {},
   "outputs": [],
   "source": [
    "#manually decide?\n",
    "freezing_response = False\n",
    "\n",
    "#does the mouse turn its head in the shortest angle to shelter\n",
    "small_angle = True"
   ]
  },
  {
   "cell_type": "code",
   "execution_count": 4,
   "id": "677c094e",
   "metadata": {},
   "outputs": [],
   "source": [
    "#read in DLC data (video_path), convert all points to cm, and center platform at 0,0\n",
    "#return converted coordinates for all in dataframe called coords, return new coordinates for the shelter and the x and y diam\n",
    "#parameters: N, S, E, W, shelter_x, shelter_y, video path (pixel information and DLC data defined in cell 2)\n",
    "shelter_x, shelter_y, x_diam, y_diam, coords = single_mouse_data(north_pixel, south_pixel, east_pixel, west_pixel, shelter_x_pixel, shelter_y_pixel, video_path)"
   ]
  },
  {
   "cell_type": "code",
   "execution_count": 5,
   "id": "757e0bea",
   "metadata": {
    "scrolled": true
   },
   "outputs": [],
   "source": [
    "#replace any mouse skeleton points with likelihood < .9 with NA (stored in coords)\n",
    "#coords dataframe is filled with NA when LT<.9, coords_scaled has interpolated data for NA values\n",
    "#returns new df (coord_scaled) with low threshold values interpolated\n",
    "\n",
    "#parameters: likelihood threshold and dataframe with DLC data\n",
    "coord_scaled = filter_data(.9, coords)"
   ]
  },
  {
   "cell_type": "code",
   "execution_count": 6,
   "id": "9ec6c88b",
   "metadata": {
    "scrolled": true
   },
   "outputs": [],
   "source": [
    "#add column for time in seconds for both coords (na values) and coord_scaled (interpolated). stimulus at 0s.\n",
    "#choose which stimulus to look at - 1 or 2 \n",
    "\n",
    "#parameters: path to bonsai video timestamps, dataframe, audio path (stimulus timestamps from bonsai), which stimulus you want to look at\n",
    "#convert_time(time_path, coords, audio_path, stimulus)\n",
    "convert_time(time_path, coord_scaled, audio_path, stimulus)"
   ]
  },
  {
   "cell_type": "code",
   "execution_count": 7,
   "id": "0f4409d1",
   "metadata": {},
   "outputs": [],
   "source": [
    "#adds 3 new columns: 1 is an average of all points to use instead of the center of the mouse, another is averaged upper body (spine1, center) and the last is averaged head (nose, head, ears)\n",
    "#more robust to use average of multiple points vs a single variable point (esp when looking at head angle bc of nose)\n",
    "\n",
    "#parameters: dataframe\n",
    "average_points(coords)\n",
    "average_points(coord_scaled)"
   ]
  },
  {
   "cell_type": "code",
   "execution_count": 8,
   "id": "3ef6f7ed",
   "metadata": {},
   "outputs": [],
   "source": [
    "#calculate displacement as 'displacement'\n",
    "\n",
    "#parameters: converted shelter_x, converted shelter_y, dataframe\n",
    "displacement(shelter_x, shelter_y, coords) \n",
    "displacement(shelter_x, shelter_y, coord_scaled) "
   ]
  },
  {
   "cell_type": "code",
   "execution_count": 9,
   "id": "3397efed",
   "metadata": {},
   "outputs": [
    {
     "ename": "KeyError",
     "evalue": "'time_set'",
     "output_type": "error",
     "traceback": [
      "\u001b[1;31m---------------------------------------------------------------------------\u001b[0m",
      "\u001b[1;31mKeyError\u001b[0m                                  Traceback (most recent call last)",
      "File \u001b[1;32mC:\\anaconda\\lib\\site-packages\\pandas\\core\\indexes\\base.py:3802\u001b[0m, in \u001b[0;36mIndex.get_loc\u001b[1;34m(self, key, method, tolerance)\u001b[0m\n\u001b[0;32m   3801\u001b[0m \u001b[38;5;28;01mtry\u001b[39;00m:\n\u001b[1;32m-> 3802\u001b[0m     \u001b[38;5;28;01mreturn\u001b[39;00m \u001b[38;5;28;43mself\u001b[39;49m\u001b[38;5;241;43m.\u001b[39;49m\u001b[43m_engine\u001b[49m\u001b[38;5;241;43m.\u001b[39;49m\u001b[43mget_loc\u001b[49m\u001b[43m(\u001b[49m\u001b[43mcasted_key\u001b[49m\u001b[43m)\u001b[49m\n\u001b[0;32m   3803\u001b[0m \u001b[38;5;28;01mexcept\u001b[39;00m \u001b[38;5;167;01mKeyError\u001b[39;00m \u001b[38;5;28;01mas\u001b[39;00m err:\n",
      "File \u001b[1;32mC:\\anaconda\\lib\\site-packages\\pandas\\_libs\\index.pyx:138\u001b[0m, in \u001b[0;36mpandas._libs.index.IndexEngine.get_loc\u001b[1;34m()\u001b[0m\n",
      "File \u001b[1;32mC:\\anaconda\\lib\\site-packages\\pandas\\_libs\\index.pyx:165\u001b[0m, in \u001b[0;36mpandas._libs.index.IndexEngine.get_loc\u001b[1;34m()\u001b[0m\n",
      "File \u001b[1;32mpandas\\_libs\\hashtable_class_helper.pxi:5745\u001b[0m, in \u001b[0;36mpandas._libs.hashtable.PyObjectHashTable.get_item\u001b[1;34m()\u001b[0m\n",
      "File \u001b[1;32mpandas\\_libs\\hashtable_class_helper.pxi:5753\u001b[0m, in \u001b[0;36mpandas._libs.hashtable.PyObjectHashTable.get_item\u001b[1;34m()\u001b[0m\n",
      "\u001b[1;31mKeyError\u001b[0m: 'time_set'",
      "\nThe above exception was the direct cause of the following exception:\n",
      "\u001b[1;31mKeyError\u001b[0m                                  Traceback (most recent call last)",
      "Cell \u001b[1;32mIn[9], line 4\u001b[0m\n\u001b[0;32m      1\u001b[0m \u001b[38;5;66;03m#calculate speed as 'speed' and change in displacement as 'delta_vector' (use delta vector for linearity calculations)\u001b[39;00m\n\u001b[0;32m      2\u001b[0m \n\u001b[0;32m      3\u001b[0m \u001b[38;5;66;03m#parameters: dataframe\u001b[39;00m\n\u001b[1;32m----> 4\u001b[0m total_distance_coords \u001b[38;5;241m=\u001b[39m \u001b[43mspeed\u001b[49m\u001b[43m(\u001b[49m\u001b[43mcoords\u001b[49m\u001b[43m)\u001b[49m \n\u001b[0;32m      5\u001b[0m total_distance \u001b[38;5;241m=\u001b[39m speed(coord_scaled)\n",
      "File \u001b[1;32m~\\AppData\\Local\\Temp\\ipykernel_25076\\3820466988.py:10\u001b[0m, in \u001b[0;36mspeed\u001b[1;34m(df)\u001b[0m\n\u001b[0;32m      8\u001b[0m speed[\u001b[38;5;124m'\u001b[39m\u001b[38;5;124mdelta_x\u001b[39m\u001b[38;5;124m'\u001b[39m] \u001b[38;5;241m=\u001b[39m df[\u001b[38;5;124m'\u001b[39m\u001b[38;5;124maverage_x\u001b[39m\u001b[38;5;124m'\u001b[39m]\u001b[38;5;241m.\u001b[39mdiff()\n\u001b[0;32m      9\u001b[0m speed[\u001b[38;5;124m'\u001b[39m\u001b[38;5;124mdelta_y\u001b[39m\u001b[38;5;124m'\u001b[39m] \u001b[38;5;241m=\u001b[39m df[\u001b[38;5;124m'\u001b[39m\u001b[38;5;124maverage_y\u001b[39m\u001b[38;5;124m'\u001b[39m]\u001b[38;5;241m.\u001b[39mdiff()\n\u001b[1;32m---> 10\u001b[0m speed[\u001b[38;5;124m'\u001b[39m\u001b[38;5;124mdelta_time\u001b[39m\u001b[38;5;124m'\u001b[39m] \u001b[38;5;241m=\u001b[39m \u001b[43mdf\u001b[49m\u001b[43m[\u001b[49m\u001b[38;5;124;43m'\u001b[39;49m\u001b[38;5;124;43mtime_set\u001b[39;49m\u001b[38;5;124;43m'\u001b[39;49m\u001b[43m]\u001b[49m\u001b[38;5;241m.\u001b[39mdiff()\n\u001b[0;32m     12\u001b[0m \u001b[38;5;66;03m#calculate speed from distance/time\u001b[39;00m\n\u001b[0;32m     13\u001b[0m speed[\u001b[38;5;124m'\u001b[39m\u001b[38;5;124mdelta_vector\u001b[39m\u001b[38;5;124m'\u001b[39m] \u001b[38;5;241m=\u001b[39m np\u001b[38;5;241m.\u001b[39msqrt(speed[\u001b[38;5;124m'\u001b[39m\u001b[38;5;124mdelta_x\u001b[39m\u001b[38;5;124m'\u001b[39m]\u001b[38;5;241m*\u001b[39m\u001b[38;5;241m*\u001b[39m\u001b[38;5;241m2\u001b[39m \u001b[38;5;241m+\u001b[39m speed[\u001b[38;5;124m'\u001b[39m\u001b[38;5;124mdelta_y\u001b[39m\u001b[38;5;124m'\u001b[39m]\u001b[38;5;241m*\u001b[39m\u001b[38;5;241m*\u001b[39m\u001b[38;5;241m2\u001b[39m)\n",
      "File \u001b[1;32mC:\\anaconda\\lib\\site-packages\\pandas\\core\\frame.py:3807\u001b[0m, in \u001b[0;36mDataFrame.__getitem__\u001b[1;34m(self, key)\u001b[0m\n\u001b[0;32m   3805\u001b[0m \u001b[38;5;28;01mif\u001b[39;00m \u001b[38;5;28mself\u001b[39m\u001b[38;5;241m.\u001b[39mcolumns\u001b[38;5;241m.\u001b[39mnlevels \u001b[38;5;241m>\u001b[39m \u001b[38;5;241m1\u001b[39m:\n\u001b[0;32m   3806\u001b[0m     \u001b[38;5;28;01mreturn\u001b[39;00m \u001b[38;5;28mself\u001b[39m\u001b[38;5;241m.\u001b[39m_getitem_multilevel(key)\n\u001b[1;32m-> 3807\u001b[0m indexer \u001b[38;5;241m=\u001b[39m \u001b[38;5;28;43mself\u001b[39;49m\u001b[38;5;241;43m.\u001b[39;49m\u001b[43mcolumns\u001b[49m\u001b[38;5;241;43m.\u001b[39;49m\u001b[43mget_loc\u001b[49m\u001b[43m(\u001b[49m\u001b[43mkey\u001b[49m\u001b[43m)\u001b[49m\n\u001b[0;32m   3808\u001b[0m \u001b[38;5;28;01mif\u001b[39;00m is_integer(indexer):\n\u001b[0;32m   3809\u001b[0m     indexer \u001b[38;5;241m=\u001b[39m [indexer]\n",
      "File \u001b[1;32mC:\\anaconda\\lib\\site-packages\\pandas\\core\\indexes\\base.py:3804\u001b[0m, in \u001b[0;36mIndex.get_loc\u001b[1;34m(self, key, method, tolerance)\u001b[0m\n\u001b[0;32m   3802\u001b[0m     \u001b[38;5;28;01mreturn\u001b[39;00m \u001b[38;5;28mself\u001b[39m\u001b[38;5;241m.\u001b[39m_engine\u001b[38;5;241m.\u001b[39mget_loc(casted_key)\n\u001b[0;32m   3803\u001b[0m \u001b[38;5;28;01mexcept\u001b[39;00m \u001b[38;5;167;01mKeyError\u001b[39;00m \u001b[38;5;28;01mas\u001b[39;00m err:\n\u001b[1;32m-> 3804\u001b[0m     \u001b[38;5;28;01mraise\u001b[39;00m \u001b[38;5;167;01mKeyError\u001b[39;00m(key) \u001b[38;5;28;01mfrom\u001b[39;00m \u001b[38;5;21;01merr\u001b[39;00m\n\u001b[0;32m   3805\u001b[0m \u001b[38;5;28;01mexcept\u001b[39;00m \u001b[38;5;167;01mTypeError\u001b[39;00m:\n\u001b[0;32m   3806\u001b[0m     \u001b[38;5;66;03m# If we have a listlike key, _check_indexing_error will raise\u001b[39;00m\n\u001b[0;32m   3807\u001b[0m     \u001b[38;5;66;03m#  InvalidIndexError. Otherwise we fall through and re-raise\u001b[39;00m\n\u001b[0;32m   3808\u001b[0m     \u001b[38;5;66;03m#  the TypeError.\u001b[39;00m\n\u001b[0;32m   3809\u001b[0m     \u001b[38;5;28mself\u001b[39m\u001b[38;5;241m.\u001b[39m_check_indexing_error(key)\n",
      "\u001b[1;31mKeyError\u001b[0m: 'time_set'"
     ]
    }
   ],
   "source": [
    "#calculate speed as 'speed' and change in displacement as 'delta_vector' (use delta vector for linearity calculations)\n",
    "\n",
    "#parameters: dataframe\n",
    "total_distance_coords = speed(coords) \n",
    "total_distance = speed(coord_scaled) "
   ]
  },
  {
   "cell_type": "code",
   "execution_count": null,
   "id": "687c3169",
   "metadata": {},
   "outputs": [],
   "source": [
    "#calculate head angle as 'head_angle'\n",
    "\n",
    "#parameters: converted shelter_x, converted shelter_y, dataframe\n",
    "angle(shelter_x, shelter_y, coords) \n",
    "angle(shelter_x, shelter_y, coord_scaled) "
   ]
  },
  {
   "cell_type": "code",
   "execution_count": null,
   "id": "737c9e3f",
   "metadata": {},
   "outputs": [],
   "source": [
    "#calculate head angle speed as 'angle_speed'\n",
    "#haven't assessed\n",
    "\n",
    "#parameters: dataframe\n",
    "angle_speed(coords) \n",
    "angle_speed(coord_scaled) "
   ]
  },
  {
   "cell_type": "code",
   "execution_count": null,
   "id": "04922c97",
   "metadata": {},
   "outputs": [],
   "source": [
    "print(escape_estimate)"
   ]
  },
  {
   "cell_type": "code",
   "execution_count": null,
   "id": "c6672823",
   "metadata": {},
   "outputs": [],
   "source": [
    "#determines more precise time for escape - either when mouse reaches shelter border OR gets closest\n",
    "\n",
    "#parameters: converted shelter x, converted shelter y, estimate for shelter reaching time, dataframe\n",
    "escape_done = escape_timeframe(shelter_x, shelter_y, escape_estimate, coord_scaled)"
   ]
  },
  {
   "cell_type": "code",
   "execution_count": null,
   "id": "e20abc94",
   "metadata": {
    "scrolled": false
   },
   "outputs": [],
   "source": [
    "#finds linearity ratio \n",
    "#parameters: shelter reaching time found in cell 12, dataframe\n",
    "ratio, initial_displacement, total_distance = linearity_ratio(0, escape_done, coord_scaled)"
   ]
  },
  {
   "cell_type": "code",
   "execution_count": null,
   "id": "1b182b3c",
   "metadata": {},
   "outputs": [],
   "source": [
    "#determine whether response is classified as an escape - look at time, linearity, and shelter reach\n",
    "\n",
    "#parameters: shelter reaching time, converted shelter x, converted shelter y, dataframe, desired percent shelter expansion, time, linearity cutoffs\n",
    "escape = escape_response(escape_done, shelter_x, shelter_y, coord_scaled, 30, 12, 1.3)\n",
    "print(escape)"
   ]
  },
  {
   "cell_type": "code",
   "execution_count": null,
   "id": "22f367ab",
   "metadata": {
    "scrolled": true
   },
   "outputs": [],
   "source": [
    "#can edit code to use this dataframe in above graphs, have this defined to pass into compiled mice. Apply filter to displacement, speed, angle, angle speed (angle speed not accurate)\n",
    "\n",
    "#parameter: sigma, dataframe\n",
    "coord_scaled_smooth = smooth_curve(sigma, coord_scaled)"
   ]
  },
  {
   "cell_type": "code",
   "execution_count": null,
   "id": "8995207e",
   "metadata": {
    "scrolled": false
   },
   "outputs": [],
   "source": [
    "#parameters: converted shelter x, converted shelter y, converted x diameter, converted y diameter, start time, stop time, dataframe\n",
    "#if moves away from shelter or freezes use escape estimate or you get an empty df \n",
    "\n",
    "trajectories(shelter_x, shelter_y, x_diam, y_diam,0, escape_done, coord_scaled)"
   ]
  },
  {
   "cell_type": "code",
   "execution_count": null,
   "id": "7997e0c7",
   "metadata": {
    "scrolled": false
   },
   "outputs": [],
   "source": [
    "#trajectory for 2 minutes of start of P2 video, trajectory 1 minute before and through escape\n",
    "#parameters: converted shelter x, converted shelter y, converted x diam, converted y diam, shelter reaching time, dataframe\n",
    "#if moves away from shelter or freezes use escape estimate or you get an empty df \n",
    "\n",
    "before_shelter_trajectory(shelter_x, shelter_y, x_diam, y_diam, escape_done, coord_scaled)"
   ]
  },
  {
   "cell_type": "code",
   "execution_count": null,
   "id": "861c4e3f",
   "metadata": {
    "scrolled": false
   },
   "outputs": [],
   "source": [
    "#plot intermediate steps - raw and with gaussian filter\n",
    "\n",
    "fig, (ax1, ax2, ax3) = plt.subplots(1, 3, figsize=(20, 6))\n",
    "\n",
    "#parameters: ax, start time, stop time, dataframe, apply filter?, overlay filter and raw?, for vertical alignment? (includ labels or not), sigma value\n",
    "speed_figure(ax1, -4, 8, coord_scaled, False, True, False, sigma)\n",
    "speed_figure(ax2, -4, 8, coord_scaled, True, False, False,sigma)\n",
    "speed_figure(ax3, -4, 8, coord_scaled, False, False, False,sigma)"
   ]
  },
  {
   "cell_type": "code",
   "execution_count": null,
   "id": "a58befa0",
   "metadata": {},
   "outputs": [],
   "source": [
    "fig, (ax1, ax2, ax3) = plt.subplots(1, 3, figsize=(20, 6))\n",
    "\n",
    "displacement_figure(ax1, -4, 8, coord_scaled, False, True, False,sigma)\n",
    "displacement_figure(ax2, -4, 8, coord_scaled, True, False, False,sigma)\n",
    "displacement_figure(ax3, -4, 8, coord_scaled, False, False, False,sigma)\n"
   ]
  },
  {
   "cell_type": "code",
   "execution_count": null,
   "id": "61ba57b7",
   "metadata": {},
   "outputs": [],
   "source": [
    "fig, (ax1, ax2, ax3) = plt.subplots(1, 3, figsize=(25, 6))\n",
    "\n",
    "head_angle_figure(ax1, -4, 8, coord_scaled, False, True, False,sigma)\n",
    "head_angle_figure(ax2, -4, 8, coord_scaled, True, False, False,sigma)\n",
    "head_angle_figure(ax3, -4, 8, coord_scaled, False, False,False, sigma)"
   ]
  },
  {
   "cell_type": "code",
   "execution_count": null,
   "id": "86cec311",
   "metadata": {
    "scrolled": false
   },
   "outputs": [],
   "source": [
    "fig, (ax1, ax2, ax3) = plt.subplots(3,1,figsize = (4,10))\n",
    "\n",
    "displacement_figure(ax1, -3, 6, coord_scaled, True, False, True, sigma)\n",
    "speed_figure(ax2, -3, 6, coord_scaled, True, False, True, sigma)\n",
    "head_angle_figure(ax3, -3, 6, coord_scaled, True, False, True, sigma)\n",
    "\n",
    "plt.tight_layout()"
   ]
  },
  {
   "cell_type": "code",
   "execution_count": null,
   "id": "cf7f0429",
   "metadata": {},
   "outputs": [],
   "source": [
    "#normalized overlay of displacement, speed, head angle\n",
    "#parameters: start time, stop time, dataframe\n",
    "combined_graphs(-3, 6, coord_scaled_smooth)"
   ]
  },
  {
   "cell_type": "code",
   "execution_count": null,
   "id": "4739b834",
   "metadata": {},
   "outputs": [],
   "source": [
    "likelihood_data, likelihood_minus_nose, likelihood_center = likelihood_check(0, 8, .9, coords)"
   ]
  },
  {
   "cell_type": "code",
   "execution_count": null,
   "id": "dd4819d5",
   "metadata": {},
   "outputs": [],
   "source": [
    "#new dataframe (rotate) with rotated coordinates and shelter at 0, 25\n",
    "\n",
    "#parameters: converted shelter x, converted shelter y, start time, stop time, dataframe\n",
    "#if moves away from shelter or freezes use escape estimate or you get an empty df \n",
    "\n",
    "rotate, shelter_rotate_x, shelter_rotate_y = align_shelter(shelter_x, shelter_y, 0, escape_done, coord_scaled)"
   ]
  },
  {
   "cell_type": "code",
   "execution_count": null,
   "id": "c2150ebe",
   "metadata": {},
   "outputs": [],
   "source": [
    "#visualize rotation above \n",
    "fig = plt.figure()  #create figure to fill in\n",
    "ax = plt.axes()\n",
    "    \n",
    "    #make x and y scales equal - present as a circle\n",
    "\n",
    "\n",
    "    #plot the center x and y coordinates\n",
    "x = rotate['rotated_x']\n",
    "y = rotate['rotated_y']\n",
    "\n",
    "ax.text(shelter_rotate_x,shelter_rotate_y, 'S', color = 'black', size = 10)\n",
    "shelter = patches.Rectangle(((shelter_rotate_x - 5.25), (shelter_rotate_y-6.25)), 10.5,12.5,  linewidth = .8, edgecolor = 'none', facecolor = 'blue', alpha = .1)\n",
    "ax.add_patch(shelter)\n",
    "\n",
    "ax.set_aspect('equal')\n",
    "ax.plot(x,y, color = 'blue', linewidth = 1)\n"
   ]
  },
  {
   "cell_type": "code",
   "execution_count": null,
   "id": "f29410e4",
   "metadata": {},
   "outputs": [],
   "source": [
    "#try plotting all of P1s trajectory "
   ]
  },
  {
   "cell_type": "code",
   "execution_count": null,
   "id": "10a5b0c4",
   "metadata": {},
   "outputs": [],
   "source": []
  }
 ],
 "metadata": {
  "kernelspec": {
   "display_name": "Python 3 (ipykernel)",
   "language": "python",
   "name": "python3"
  },
  "language_info": {
   "codemirror_mode": {
    "name": "ipython",
    "version": 3
   },
   "file_extension": ".py",
   "mimetype": "text/x-python",
   "name": "python",
   "nbconvert_exporter": "python",
   "pygments_lexer": "ipython3",
   "version": "3.10.9"
  }
 },
 "nbformat": 4,
 "nbformat_minor": 5
}
