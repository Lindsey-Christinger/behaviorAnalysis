{
 "cells": [
  {
   "cell_type": "code",
   "execution_count": 1,
   "id": "9cc95dbe",
   "metadata": {},
   "outputs": [],
   "source": [
    "#The only difference in the V2/V3 code should be due to the stimulus start information\n",
    "#use difference in length of video timestamps and audio files to determine time of stimulus"
   ]
  },
  {
   "cell_type": "code",
   "execution_count": 2,
   "id": "b829e103",
   "metadata": {
    "scrolled": true
   },
   "outputs": [],
   "source": [
    "import pandas as pd\n",
    "import matplotlib.pyplot as plt\n",
    "import numpy as np\n",
    "import seaborn as sns\n",
    "from matplotlib.patches import Ellipse\n",
    "import matplotlib.patches as patches\n",
    "import librosa\n",
    "\n",
    "%run V3_graphing_functions.ipynb"
   ]
  },
  {
   "cell_type": "code",
   "execution_count": 3,
   "id": "22ddcd07",
   "metadata": {},
   "outputs": [],
   "source": [
    "#Use this for all adjustable values \n",
    "#input file paths here (include .csv):\n",
    "\n",
    "#note: this is one of the new mice we ran to increase n (in the original folder, it was saved as M3)\n",
    "video_path = r'\\\\10.25.16.5\\yaochen\\Active\\DLC\\Final_Models\\Hanna\\escape_behavior_HannaJachna_2024-07-8\\increaseNV3\\coords_csv\\CoordM3variation3IncreaseN_videoP2DLC_resnet50_escape_behavior_2Jun13shuffle1_1030000_filtered_day.csv'\n",
    "time_path = r'\\\\10.25.16.5\\yaochen\\Active\\Hanna\\Escape_behavior\\variation3IncreasingN\\videoTime\\M3variation3IncreaseN_videoTimeP20.csv'\n",
    "audio_path = r'\\\\10.25.16.5\\yaochen\\Active\\Hanna\\Escape_behavior\\variation3IncreasingN\\audioWAV\\M3variation3IncreaseN_audioP2.wav'\n",
    "\n",
    "#input coordinates for the shelter and platform \n",
    "north_pixel = 28\n",
    "south_pixel = 464\n",
    "east_pixel = 572\n",
    "west_pixel = 105\n",
    "shelter_x_pixel = 341\n",
    "shelter_y_pixel = 72\n",
    "\n",
    "#input info from time_and_audio info notebook (either from audacity or bonsai)\n",
    "stimulus_start = 171.915 #stimulus start time\n",
    "escape_time = 176.8 #time mouse reaches shelter location\n",
    "\n",
    "#set sigma for gaussian filter - look into how to decide \n",
    "sigma = 2"
   ]
  },
  {
   "cell_type": "code",
   "execution_count": 4,
   "id": "13ced2f0",
   "metadata": {},
   "outputs": [],
   "source": [
    "#manually decide?\n",
    "freezing_response = False\n",
    "\n",
    "#does the mouse turn its head in the shortest angle to shelter\n",
    "small_angle = True"
   ]
  },
  {
   "cell_type": "code",
   "execution_count": 5,
   "id": "677c094e",
   "metadata": {},
   "outputs": [],
   "source": [
    "#read in DLC data (video_path), convert all points to cm, and center platform at 0,0\n",
    "#return converted coordinates for all in dataframe called coords, return new coordinates for the shelter and the x and y diam\n",
    "#parameters: N, S, E, W, shelter_x, shelter_y, video path (pixel information and DLC data defined in cell 2)\n",
    "shelter_x, shelter_y, x_diam, y_diam, coords = convert_data(north_pixel, south_pixel, east_pixel, west_pixel, shelter_x_pixel, shelter_y_pixel, video_path)"
   ]
  },
  {
   "cell_type": "code",
   "execution_count": 6,
   "id": "757e0bea",
   "metadata": {
    "scrolled": true
   },
   "outputs": [],
   "source": [
    "#replace any mouse skeleton points with likelihood < .9 with NA (stored in coords)\n",
    "#coords dataframe is filled with NA when LT<.9, coords_scaled has interpolated data for NA values\n",
    "#returns new df (coord_scaled) with low threshold values interpolated\n",
    "\n",
    "#parameters: likelihood threshold and dataframe with DLC data\n",
    "coord_scaled = filter_data(.9, coords)"
   ]
  },
  {
   "cell_type": "code",
   "execution_count": 7,
   "id": "9ec6c88b",
   "metadata": {
    "scrolled": true
   },
   "outputs": [],
   "source": [
    "#add column for time in seconds for both coords (na values) and coord_scaled (interpolated). stimulus at 0s.\n",
    "#choose which stimulus to look at - 1 or 2 \n",
    "\n",
    "#parameters: path to bonsai video timestamps, dataframe, audio path (stimulus timestamps from bonsai), which stimulus you want to look at\n",
    "escape_estimate = audio_timing(stimulus_start, audio_path, time_path, escape_time, coord_scaled)\n",
    "escape_estimate = audio_timing(stimulus_start, audio_path, time_path, escape_time, coords)"
   ]
  },
  {
   "cell_type": "code",
   "execution_count": 8,
   "id": "0f4409d1",
   "metadata": {},
   "outputs": [],
   "source": [
    "#adds 3 new columns: 1 is an average of all points to use instead of the center of the mouse, another is averaged upper body (spine1, center) and the last is averaged head (nose, head, ears)\n",
    "#more robust to use average of multiple points vs a single variable point (esp when looking at head angle bc of nose)\n",
    "\n",
    "#parameters: dataframe\n",
    "average_points(coords)\n",
    "average_points(coord_scaled)"
   ]
  },
  {
   "cell_type": "code",
   "execution_count": 9,
   "id": "3ef6f7ed",
   "metadata": {},
   "outputs": [],
   "source": [
    "#calculate displacement as 'displacement'\n",
    "\n",
    "#parameters: converted shelter_x, converted shelter_y, dataframe\n",
    "displacement(shelter_x, shelter_y, coord_scaled) \n",
    "displacement(shelter_x, shelter_y, coords) "
   ]
  },
  {
   "cell_type": "code",
   "execution_count": 10,
   "id": "3397efed",
   "metadata": {},
   "outputs": [],
   "source": [
    "#calculate speed as 'speed' and change in displacement as 'delta_vector' (use delta vector for linearity calculations)\n",
    "\n",
    "#parameters: dataframe\n",
    "total_distance = speed(coord_scaled) \n",
    "total_distance_coords = speed(coords) "
   ]
  },
  {
   "cell_type": "code",
   "execution_count": 11,
   "id": "687c3169",
   "metadata": {},
   "outputs": [],
   "source": [
    "#calculate head angle as 'head_angle'\n",
    "\n",
    "#parameters: converted shelter_x, converted shelter_y, dataframe\n",
    "angle(shelter_x, shelter_y, coord_scaled) \n",
    "angle(shelter_x, shelter_y, coords) "
   ]
  },
  {
   "cell_type": "code",
   "execution_count": 12,
   "id": "737c9e3f",
   "metadata": {},
   "outputs": [],
   "source": [
    "#calculate head angle speed as 'angle_speed'\n",
    "#haven't assessed\n",
    "\n",
    "#parameters: dataframe\n",
    "angle_speed(coord_scaled) \n",
    "angle_speed(coords) "
   ]
  },
  {
   "cell_type": "code",
   "execution_count": 13,
   "id": "c6672823",
   "metadata": {},
   "outputs": [
    {
     "name": "stderr",
     "output_type": "stream",
     "text": [
      "C:\\Users\\ChenLab\\AppData\\Local\\Temp\\ipykernel_21856\\1030386619.py:18: RuntimeWarning: invalid value encountered in double_scalars\n",
      "  ratio = total_distance/initial_displacement\n"
     ]
    }
   ],
   "source": [
    "#determines more precise time for escape - either when mouse reaches shelter border OR gets closest\n",
    "\n",
    "#parameters: converted shelter x, converted shelter y, estimate for shelter reaching time, dataframe\n",
    "escape_done = escape_timeframe(shelter_x, shelter_y, escape_estimate, coord_scaled)"
   ]
  },
  {
   "cell_type": "code",
   "execution_count": 14,
   "id": "e20abc94",
   "metadata": {
    "scrolled": false
   },
   "outputs": [
    {
     "name": "stderr",
     "output_type": "stream",
     "text": [
      "C:\\Users\\ChenLab\\AppData\\Local\\Temp\\ipykernel_21856\\1030386619.py:18: RuntimeWarning: invalid value encountered in double_scalars\n",
      "  ratio = total_distance/initial_displacement\n"
     ]
    }
   ],
   "source": [
    "#finds linearity ratio \n",
    "\n",
    "#parameters: shelter reaching time found in cell 12, dataframe\n",
    "ratio, initial_displacement, total_distance = linearity_ratio(0,escape_done, coord_scaled)"
   ]
  },
  {
   "cell_type": "code",
   "execution_count": 15,
   "id": "1b182b3c",
   "metadata": {},
   "outputs": [
    {
     "name": "stdout",
     "output_type": "stream",
     "text": [
      "False\n"
     ]
    }
   ],
   "source": [
    "#determine whether response is classified as an escape - look at time, linearity, and shelter reach\n",
    "\n",
    "#parameters: shelter reaching time, converted shelter x, converted shelter y, dataframe, desired percent shelter expansion, time, linearity cutoffs\n",
    "escape = escape_response(escape_done, shelter_x, shelter_y, coord_scaled, 30, 12, 1.3)\n",
    "print(escape)"
   ]
  },
  {
   "cell_type": "code",
   "execution_count": 16,
   "id": "22f367ab",
   "metadata": {
    "scrolled": true
   },
   "outputs": [],
   "source": [
    "#can edit code to use this dataframe in above graphs, have this defined to pass into compiled mice. Apply filter to displacement, speed, angle, angle speed (angle speed not accurate)\n",
    "\n",
    "#parameter: sigma, dataframe\n",
    "coord_scaled_smooth = smooth_curve(sigma, coord_scaled)"
   ]
  },
  {
   "cell_type": "code",
   "execution_count": 17,
   "id": "8995207e",
   "metadata": {
    "scrolled": false
   },
   "outputs": [
    {
     "ename": "IndexError",
     "evalue": "single positional indexer is out-of-bounds",
     "output_type": "error",
     "traceback": [
      "\u001b[1;31m---------------------------------------------------------------------------\u001b[0m",
      "\u001b[1;31mIndexError\u001b[0m                                Traceback (most recent call last)",
      "Cell \u001b[1;32mIn[17], line 4\u001b[0m\n\u001b[0;32m      1\u001b[0m \u001b[38;5;66;03m#parameters: converted shelter x, converted shelter y, converted x diameter, converted y diameter, start time, stop time, dataframe\u001b[39;00m\n\u001b[0;32m      2\u001b[0m \u001b[38;5;66;03m#if moves away from shelter or freezes use escape estimate or you get an empty df \u001b[39;00m\n\u001b[1;32m----> 4\u001b[0m \u001b[43mtrajectories\u001b[49m\u001b[43m(\u001b[49m\u001b[43mshelter_x\u001b[49m\u001b[43m,\u001b[49m\u001b[43m \u001b[49m\u001b[43mshelter_y\u001b[49m\u001b[43m,\u001b[49m\u001b[43m \u001b[49m\u001b[43mx_diam\u001b[49m\u001b[43m,\u001b[49m\u001b[43m \u001b[49m\u001b[43my_diam\u001b[49m\u001b[43m,\u001b[49m\u001b[38;5;241;43m0\u001b[39;49m\u001b[43m,\u001b[49m\u001b[43m \u001b[49m\u001b[43mescape_done\u001b[49m\u001b[43m,\u001b[49m\u001b[43m \u001b[49m\u001b[43mcoord_scaled\u001b[49m\u001b[43m)\u001b[49m\n",
      "File \u001b[1;32m~\\AppData\\Local\\Temp\\ipykernel_21856\\3648271180.py:6\u001b[0m, in \u001b[0;36mtrajectories\u001b[1;34m(shelter_x, shelter_y, x_diam, y_diam, start_value, stop_value, df)\u001b[0m\n\u001b[0;32m      3\u001b[0m fig, (ax1, ax2) \u001b[38;5;241m=\u001b[39m plt\u001b[38;5;241m.\u001b[39msubplots(\u001b[38;5;241m1\u001b[39m, \u001b[38;5;241m2\u001b[39m, figsize\u001b[38;5;241m=\u001b[39m(\u001b[38;5;241m12\u001b[39m, \u001b[38;5;241m6\u001b[39m))\n\u001b[0;32m      5\u001b[0m \u001b[38;5;66;03m#plot each trajectory side by side \u001b[39;00m\n\u001b[1;32m----> 6\u001b[0m \u001b[43mtrajectory\u001b[49m\u001b[43m(\u001b[49m\u001b[43max1\u001b[49m\u001b[43m,\u001b[49m\u001b[43m \u001b[49m\u001b[43mshelter_x\u001b[49m\u001b[43m,\u001b[49m\u001b[43m \u001b[49m\u001b[43mshelter_y\u001b[49m\u001b[43m,\u001b[49m\u001b[43m \u001b[49m\u001b[43mx_diam\u001b[49m\u001b[43m,\u001b[49m\u001b[43m \u001b[49m\u001b[43my_diam\u001b[49m\u001b[43m,\u001b[49m\u001b[43m \u001b[49m\u001b[43mstart_value\u001b[49m\u001b[43m,\u001b[49m\u001b[43m \u001b[49m\u001b[43mstop_value\u001b[49m\u001b[43m,\u001b[49m\u001b[43m \u001b[49m\u001b[43mdf\u001b[49m\u001b[43m)\u001b[49m\n\u001b[0;32m      7\u001b[0m head_angle_trajectory_figure(ax2, shelter_x, shelter_y, x_diam, y_diam, start_value, stop_value, df)\n\u001b[0;32m      9\u001b[0m \u001b[38;5;66;03m#set aspect ratio for axes as equal (size varies right now because head arrows extend of platform)\u001b[39;00m\n",
      "File \u001b[1;32m~\\AppData\\Local\\Temp\\ipykernel_21856\\799310068.py:39\u001b[0m, in \u001b[0;36mtrajectory\u001b[1;34m(ax, shelter_x, shelter_y, x_diam, y_diam, start_value, stop_value, dataframe)\u001b[0m\n\u001b[0;32m     36\u001b[0m \u001b[38;5;66;03m#add an arrow to show mouse's direction\u001b[39;00m\n\u001b[0;32m     37\u001b[0m \u001b[38;5;66;03m#add an arrow to show mouse's direction\u001b[39;00m\n\u001b[0;32m     38\u001b[0m xf \u001b[38;5;241m=\u001b[39m df[\u001b[38;5;124m'\u001b[39m\u001b[38;5;124maverage_x\u001b[39m\u001b[38;5;124m'\u001b[39m]\u001b[38;5;241m.\u001b[39miloc[\u001b[38;5;241m-\u001b[39m\u001b[38;5;241m1\u001b[39m] \u001b[38;5;66;03m#final x coordinate\u001b[39;00m\n\u001b[1;32m---> 39\u001b[0m xo \u001b[38;5;241m=\u001b[39m \u001b[43mdf\u001b[49m\u001b[43m[\u001b[49m\u001b[38;5;124;43m'\u001b[39;49m\u001b[38;5;124;43maverage_x\u001b[39;49m\u001b[38;5;124;43m'\u001b[39;49m\u001b[43m]\u001b[49m\u001b[38;5;241;43m.\u001b[39;49m\u001b[43miloc\u001b[49m\u001b[43m[\u001b[49m\u001b[38;5;241;43m-\u001b[39;49m\u001b[38;5;241;43m2\u001b[39;49m\u001b[43m]\u001b[49m \u001b[38;5;66;03m#second to last x coordinate\u001b[39;00m\n\u001b[0;32m     40\u001b[0m yf \u001b[38;5;241m=\u001b[39m df[\u001b[38;5;124m'\u001b[39m\u001b[38;5;124maverage_y\u001b[39m\u001b[38;5;124m'\u001b[39m]\u001b[38;5;241m.\u001b[39miloc[\u001b[38;5;241m-\u001b[39m\u001b[38;5;241m1\u001b[39m] \u001b[38;5;66;03m#final y coordinate\u001b[39;00m\n\u001b[0;32m     41\u001b[0m yo \u001b[38;5;241m=\u001b[39m df[\u001b[38;5;124m'\u001b[39m\u001b[38;5;124maverage_y\u001b[39m\u001b[38;5;124m'\u001b[39m]\u001b[38;5;241m.\u001b[39miloc[\u001b[38;5;241m-\u001b[39m\u001b[38;5;241m2\u001b[39m] \u001b[38;5;66;03m#second to last y coordinate\u001b[39;00m\n",
      "File \u001b[1;32mC:\\anaconda\\lib\\site-packages\\pandas\\core\\indexing.py:1073\u001b[0m, in \u001b[0;36m_LocationIndexer.__getitem__\u001b[1;34m(self, key)\u001b[0m\n\u001b[0;32m   1070\u001b[0m axis \u001b[38;5;241m=\u001b[39m \u001b[38;5;28mself\u001b[39m\u001b[38;5;241m.\u001b[39maxis \u001b[38;5;129;01mor\u001b[39;00m \u001b[38;5;241m0\u001b[39m\n\u001b[0;32m   1072\u001b[0m maybe_callable \u001b[38;5;241m=\u001b[39m com\u001b[38;5;241m.\u001b[39mapply_if_callable(key, \u001b[38;5;28mself\u001b[39m\u001b[38;5;241m.\u001b[39mobj)\n\u001b[1;32m-> 1073\u001b[0m \u001b[38;5;28;01mreturn\u001b[39;00m \u001b[38;5;28;43mself\u001b[39;49m\u001b[38;5;241;43m.\u001b[39;49m\u001b[43m_getitem_axis\u001b[49m\u001b[43m(\u001b[49m\u001b[43mmaybe_callable\u001b[49m\u001b[43m,\u001b[49m\u001b[43m \u001b[49m\u001b[43maxis\u001b[49m\u001b[38;5;241;43m=\u001b[39;49m\u001b[43maxis\u001b[49m\u001b[43m)\u001b[49m\n",
      "File \u001b[1;32mC:\\anaconda\\lib\\site-packages\\pandas\\core\\indexing.py:1625\u001b[0m, in \u001b[0;36m_iLocIndexer._getitem_axis\u001b[1;34m(self, key, axis)\u001b[0m\n\u001b[0;32m   1622\u001b[0m     \u001b[38;5;28;01mraise\u001b[39;00m \u001b[38;5;167;01mTypeError\u001b[39;00m(\u001b[38;5;124m\"\u001b[39m\u001b[38;5;124mCannot index by location index with a non-integer key\u001b[39m\u001b[38;5;124m\"\u001b[39m)\n\u001b[0;32m   1624\u001b[0m \u001b[38;5;66;03m# validate the location\u001b[39;00m\n\u001b[1;32m-> 1625\u001b[0m \u001b[38;5;28;43mself\u001b[39;49m\u001b[38;5;241;43m.\u001b[39;49m\u001b[43m_validate_integer\u001b[49m\u001b[43m(\u001b[49m\u001b[43mkey\u001b[49m\u001b[43m,\u001b[49m\u001b[43m \u001b[49m\u001b[43maxis\u001b[49m\u001b[43m)\u001b[49m\n\u001b[0;32m   1627\u001b[0m \u001b[38;5;28;01mreturn\u001b[39;00m \u001b[38;5;28mself\u001b[39m\u001b[38;5;241m.\u001b[39mobj\u001b[38;5;241m.\u001b[39m_ixs(key, axis\u001b[38;5;241m=\u001b[39maxis)\n",
      "File \u001b[1;32mC:\\anaconda\\lib\\site-packages\\pandas\\core\\indexing.py:1557\u001b[0m, in \u001b[0;36m_iLocIndexer._validate_integer\u001b[1;34m(self, key, axis)\u001b[0m\n\u001b[0;32m   1555\u001b[0m len_axis \u001b[38;5;241m=\u001b[39m \u001b[38;5;28mlen\u001b[39m(\u001b[38;5;28mself\u001b[39m\u001b[38;5;241m.\u001b[39mobj\u001b[38;5;241m.\u001b[39m_get_axis(axis))\n\u001b[0;32m   1556\u001b[0m \u001b[38;5;28;01mif\u001b[39;00m key \u001b[38;5;241m>\u001b[39m\u001b[38;5;241m=\u001b[39m len_axis \u001b[38;5;129;01mor\u001b[39;00m key \u001b[38;5;241m<\u001b[39m \u001b[38;5;241m-\u001b[39mlen_axis:\n\u001b[1;32m-> 1557\u001b[0m     \u001b[38;5;28;01mraise\u001b[39;00m \u001b[38;5;167;01mIndexError\u001b[39;00m(\u001b[38;5;124m\"\u001b[39m\u001b[38;5;124msingle positional indexer is out-of-bounds\u001b[39m\u001b[38;5;124m\"\u001b[39m)\n",
      "\u001b[1;31mIndexError\u001b[0m: single positional indexer is out-of-bounds"
     ]
    },
    {
     "data": {
      "image/png": "[encoded data removed]",
      "text/plain": [
       "<Figure size 1200x600 with 2 Axes>"
      ]
     },
     "metadata": {},
     "output_type": "display_data"
    }
   ],
   "source": [
    "#parameters: converted shelter x, converted shelter y, converted x diameter, converted y diameter, start time, stop time, dataframe\n",
    "#if moves away from shelter or freezes use escape estimate or you get an empty df \n",
    "\n",
    "trajectories(shelter_x, shelter_y, x_diam, y_diam,0, escape_done, coord_scaled)"
   ]
  },
  {
   "cell_type": "code",
   "execution_count": null,
   "id": "7997e0c7",
   "metadata": {
    "scrolled": false
   },
   "outputs": [],
   "source": [
    "#trajectory for 2 minutes of start of P2 video, trajectory 1 minute before and through escape\n",
    "#parameters: converted shelter x, converted shelter y, converted x diam, converted y diam, shelter reaching time, dataframe\n",
    "#if moves away from shelter or freezes use escape estimate or you get an empty df \n",
    "\n",
    "before_shelter_trajectory(shelter_x, shelter_y, x_diam, y_diam, escape_done, coord_scaled)"
   ]
  },
  {
   "cell_type": "code",
   "execution_count": null,
   "id": "861c4e3f",
   "metadata": {
    "scrolled": false
   },
   "outputs": [],
   "source": [
    "#plot intermediate steps - raw and with gaussian filter\n",
    "\n",
    "fig, (ax1, ax2, ax3) = plt.subplots(1, 3, figsize=(20, 6))\n",
    "\n",
    "#parameters: ax, start time, stop time, dataframe, apply filter?, overlay filter and raw?, for vertical alignment? (includ labels or not), sigma value\n",
    "speed_figure(ax1, -4, 8, coord_scaled, False, True, False, sigma)\n",
    "speed_figure(ax2, -4, 8, coord_scaled, True, False, False,sigma)\n",
    "speed_figure(ax3, -4, 8, coord_scaled, False, False, False,sigma)"
   ]
  },
  {
   "cell_type": "code",
   "execution_count": null,
   "id": "a58befa0",
   "metadata": {},
   "outputs": [],
   "source": [
    "fig, (ax1, ax2, ax3) = plt.subplots(1, 3, figsize=(20, 6))\n",
    "\n",
    "displacement_figure(ax1, -4, 8, coord_scaled, False, True, False,sigma)\n",
    "displacement_figure(ax2, -4, 8, coord_scaled, True, False, False,sigma)\n",
    "displacement_figure(ax3, -4, 8, coord_scaled, False, False, False,sigma)\n"
   ]
  },
  {
   "cell_type": "code",
   "execution_count": null,
   "id": "61ba57b7",
   "metadata": {},
   "outputs": [],
   "source": [
    "fig, (ax1, ax2, ax3) = plt.subplots(1, 3, figsize=(25, 6))\n",
    "\n",
    "head_angle_figure(ax1, -4, 8, coord_scaled, False, True, False,sigma)\n",
    "head_angle_figure(ax2, -4, 8, coord_scaled, True, False, False,sigma)\n",
    "head_angle_figure(ax3, -4, 8, coord_scaled, False, False,False, sigma)"
   ]
  },
  {
   "cell_type": "code",
   "execution_count": null,
   "id": "86cec311",
   "metadata": {
    "scrolled": false
   },
   "outputs": [],
   "source": [
    "fig, (ax1, ax2, ax3) = plt.subplots(3,1,figsize = (4,10))\n",
    "\n",
    "displacement_figure(ax1, -3, 6, coord_scaled, True, False, True, sigma)\n",
    "speed_figure(ax2, -3, 6, coord_scaled, True, False, True, sigma)\n",
    "head_angle_figure(ax3, -3, 6, coord_scaled, True, False, True, sigma)\n",
    "\n",
    "plt.tight_layout()"
   ]
  },
  {
   "cell_type": "code",
   "execution_count": null,
   "id": "cf7f0429",
   "metadata": {},
   "outputs": [],
   "source": [
    "#normalized overlay of displacement, speed, head angle\n",
    "#parameters: start time, stop time, dataframe\n",
    "combined_graphs(-3, 6, coord_scaled_smooth)"
   ]
  },
  {
   "cell_type": "code",
   "execution_count": null,
   "id": "4739b834",
   "metadata": {},
   "outputs": [],
   "source": [
    "likelihood_data, likelihood_minus_nose, likelihood_center = likelihood_check(0, 8, .9, coords)"
   ]
  },
  {
   "cell_type": "code",
   "execution_count": null,
   "id": "dd4819d5",
   "metadata": {},
   "outputs": [],
   "source": [
    "#new dataframe (rotate) with rotated coordinates and shelter at 0, 25\n",
    "\n",
    "#parameters: converted shelter x, converted shelter y, start time, stop time, dataframe\n",
    "#if moves away from shelter or freezes use escape estimate or you get an empty df \n",
    "\n",
    "rotate, shelter_rotate_x, shelter_rotate_y = align_shelter(shelter_x, shelter_y, 0, escape_done, coord_scaled)"
   ]
  },
  {
   "cell_type": "code",
   "execution_count": null,
   "id": "c2150ebe",
   "metadata": {},
   "outputs": [],
   "source": [
    "#visualize rotation above \n",
    "fig = plt.figure()  #create figure to fill in\n",
    "ax = plt.axes()\n",
    "    \n",
    "    #make x and y scales equal - present as a circle\n",
    "\n",
    "\n",
    "    #plot the center x and y coordinates\n",
    "x = rotate['rotated_x']\n",
    "y = rotate['rotated_y']\n",
    "\n",
    "ax.text(shelter_rotate_x,shelter_rotate_y, 'S', color = 'black', size = 10)\n",
    "shelter = patches.Rectangle(((shelter_rotate_x - 5.25), (shelter_rotate_y-6.25)), 10.5,12.5,  linewidth = .8, edgecolor = 'none', facecolor = 'blue', alpha = .1)\n",
    "ax.add_patch(shelter)\n",
    "\n",
    "ax.set_aspect('equal')\n",
    "ax.plot(x,y, color = 'blue', linewidth = 1)\n"
   ]
  },
  {
   "cell_type": "code",
   "execution_count": null,
   "id": "f29410e4",
   "metadata": {},
   "outputs": [],
   "source": [
    "#try plotting all of P1s trajectory "
   ]
  }
 ],
 "metadata": {
  "kernelspec": {
   "display_name": "Python 3 (ipykernel)",
   "language": "python",
   "name": "python3"
  },
  "language_info": {
   "codemirror_mode": {
    "name": "ipython",
    "version": 3
   },
   "file_extension": ".py",
   "mimetype": "text/x-python",
   "name": "python",
   "nbconvert_exporter": "python",
   "pygments_lexer": "ipython3",
   "version": "3.10.9"
  }
 },
 "nbformat": 4,
 "nbformat_minor": 5
}
